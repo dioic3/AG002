{
  "cells": [
    {
      "cell_type": "code",
      "execution_count": 8,
      "metadata": {
        "id": "MNFlcR3GCgKM"
      },
      "outputs": [],
      "source": [
        "#importar as bibliotecas\n",
        "import pandas as pd\n",
        "from sklearn.model_selection import train_test_split\n",
        "from sklearn.tree import DecisionTreeClassifier #modelo de decisão tree\n",
        "from sklearn.neighbors import KNeighborsClassifier #modelo de kneighbors classifier\n",
        "from sklearn.metrics import classification_report\n",
        "import warnings\n",
        "warnings.filterwarnings('ignore')"
      ]
    },
    {
      "cell_type": "code",
      "execution_count": 9,
      "metadata": {
        "colab": {
          "base_uri": "https://localhost:8080/"
        },
        "id": "d5MUQuCmCTRQ",
        "outputId": "f717dc39-8f77-41b3-dd6f-059431aa082d"
      },
      "outputs": [
        {
          "name": "stdout",
          "output_type": "stream",
          "text": [
            "Index(['species', 'island', 'culmen_length_mm', 'culmen_depth_mm',\n",
            "       'flipper_length_mm', 'body_mass_g', 'sex'],\n",
            "      dtype='object')\n"
          ]
        }
      ],
      "source": [
        "# Questão 2 - leitura dos dados com a biblioteca pandas\n",
        "url = \"https://raw.githubusercontent.com/marcelovca90-inatel/AG002/main/palmerpenguins.csv\"\n",
        "data = pd.read_csv(url)\n",
        "print(data.columns)"
      ]
    },
    {
      "cell_type": "code",
      "execution_count": 10,
      "metadata": {
        "id": "uEseElYoEW3D"
      },
      "outputs": [],
      "source": [
        "# questão 3 - mapeamento da tabela\n",
        "island_map = {\"Biscoe\": 0, \"Dream\": 1, \"Torgersen\": 2}\n",
        "sex_map = {\"FEMALE\": 0, \"MALE\": 1}\n",
        "species_map = {\"Adelie\": 0, \"Chinstrap\": 1, \"Gentoo\": 2}\n",
        "\n",
        "# aplicação do mapeamento\n",
        "data['island'] = data['island'].replace(island_map)\n",
        "data['sex'] = data['sex'].replace(sex_map)\n",
        "data['species'] = data['species'].replace(species_map)"
      ]
    },
    {
      "cell_type": "code",
      "execution_count": 11,
      "metadata": {
        "colab": {
          "base_uri": "https://localhost:8080/"
        },
        "id": "cAdllMRKFSQY",
        "outputId": "da38a592-bbc4-4f86-94b6-70d2f7ae1c5a"
      },
      "outputs": [
        {
          "name": "stdout",
          "output_type": "stream",
          "text": [
            "Todas as colunas ordenadas:\n",
            "Index(['island', 'sex', 'culmen_length_mm', 'culmen_depth_mm',\n",
            "       'flipper_length_mm', 'body_mass_g', 'species'],\n",
            "      dtype='object')\n",
            "Resultado das colunas:\n",
            "0      0\n",
            "1      0\n",
            "2      0\n",
            "3      0\n",
            "4      0\n",
            "      ..\n",
            "328    2\n",
            "329    2\n",
            "330    2\n",
            "331    2\n",
            "332    2\n",
            "Name: species, Length: 333, dtype: int64\n"
          ]
        }
      ],
      "source": [
        "# 4 - reordenação das colunas\n",
        "data1 = data.reindex(columns=['island', 'sex', 'culmen_length_mm', 'culmen_depth_mm', 'flipper_length_mm', 'body_mass_g', 'species'])\n",
        "print(\"Todas as colunas ordenadas:\")\n",
        "print(data1.columns)\n",
        "print(\"Resultado das colunas:\")\n",
        "print(data1.species)"
      ]
    },
    {
      "cell_type": "code",
      "execution_count": 12,
      "metadata": {
        "id": "_XmkOpgPGc2_"
      },
      "outputs": [],
      "source": [
        "# Questão 5 - separação dos dados em duas partes e dividir os dados em conjuntos de treinamento (80%) e teste (20%)\n",
        "X = data1.drop('species', axis=1)\n",
        "y = data1['species']\n",
        "\n",
        "X_train, X_test, y_train, y_test = train_test_split(X, y, test_size=0.2, random_state=9)"
      ]
    },
    {
      "cell_type": "markdown",
      "metadata": {
        "id": "7plYWm0nIv7h"
      },
      "source": [
        "#Resultados com o modelo: **Decision Tree**\n"
      ]
    },
    {
      "cell_type": "code",
      "execution_count": 13,
      "metadata": {
        "colab": {
          "base_uri": "https://localhost:8080/"
        },
        "id": "6JY4clGuHmaF",
        "outputId": "e577a56d-5fb8-48ca-e16a-11a0058688e4"
      },
      "outputs": [
        {
          "name": "stdout",
          "output_type": "stream",
          "text": [
            "Decision Tree Classification Report:\n",
            "              precision    recall  f1-score   support\n",
            "\n",
            "      Adelie       1.00      0.88      0.94        34\n",
            "   Chinstrap       0.78      1.00      0.88        14\n",
            "      Gentoo       1.00      1.00      1.00        19\n",
            "\n",
            "    accuracy                           0.94        67\n",
            "   macro avg       0.93      0.96      0.94        67\n",
            "weighted avg       0.95      0.94      0.94        67\n",
            "\n"
          ]
        }
      ],
      "source": [
        "# Inicialização do modelo de Árvore de Decisão\n",
        "dt_model = DecisionTreeClassifier()\n",
        "\n",
        "# Treinamento do modelo\n",
        "dt_model.fit(X_train, y_train)\n",
        "\n",
        "# Previsões nos dados de teste\n",
        "dt_predictions = dt_model.predict(X_test)\n",
        "\n",
        "\n",
        "dt_report = classification_report(y_test, dt_predictions, target_names=['Adelie', 'Chinstrap', 'Gentoo'])\n",
        "print(\"Decision Tree Classification Report:\")\n",
        "print(dt_report)\n"
      ]
    },
    {
      "cell_type": "markdown",
      "metadata": {
        "id": "78NEON8uJEgd"
      },
      "source": [
        "# Resultado com o modeço: **k-Nearest Neighbors**"
      ]
    },
    {
      "cell_type": "code",
      "execution_count": 14,
      "metadata": {
        "colab": {
          "base_uri": "https://localhost:8080/"
        },
        "id": "Q8-nAhG4JE9L",
        "outputId": "bcc77c68-75fb-4eb5-88d9-04d9b922f7f4"
      },
      "outputs": [
        {
          "name": "stdout",
          "output_type": "stream",
          "text": [
            "k-Nearest Neighbors Classification Report:\n",
            "              precision    recall  f1-score   support\n",
            "\n",
            "      Adelie       0.66      0.79      0.72        34\n",
            "   Chinstrap       0.20      0.07      0.11        14\n",
            "      Gentoo       0.86      0.95      0.90        19\n",
            "\n",
            "    accuracy                           0.69        67\n",
            "   macro avg       0.57      0.60      0.58        67\n",
            "weighted avg       0.62      0.69      0.64        67\n",
            "\n"
          ]
        }
      ],
      "source": [
        "# Inicialização do modelo de k-Nearest Neighbors com k=5 (por exemplo)\n",
        "knn_model = KNeighborsClassifier(n_neighbors=5)\n",
        "\n",
        "# Treinamento do modelo\n",
        "knn_model.fit(X_train, y_train)\n",
        "\n",
        "# Previsões do modelo\n",
        "knn_predictions = knn_model.predict(X_test)\n",
        "\n",
        "# Métricas da avaliação\n",
        "knn_report = classification_report(y_test, knn_predictions, target_names=['Adelie', 'Chinstrap', 'Gentoo'])\n",
        "print(\"k-Nearest Neighbors Classification Report:\")\n",
        "print(knn_report)\n"
      ]
    },
    {
      "cell_type": "code",
      "execution_count": 18,
      "metadata": {
        "colab": {
          "base_uri": "https://localhost:8080/"
        },
        "id": "RNw0o46zLAWM",
        "outputId": "0e5441ef-2399-4e4b-8dba-358066e7cdcb"
      },
      "outputs": [
        {
          "name": "stdout",
          "output_type": "stream",
          "text": [
            "Espécie prevista usando Árvore de Decisão: Gentoo\n",
            "Espécie prevista usando k-Nearest Neighbors: Gentoo\n"
          ]
        }
      ],
      "source": [
        "species_map_inverse = {0: 'Adelie', 1: 'Chinstrap', 2: 'Gentoo'}\n",
        "\n",
        "# Inserção de dados\n",
        "user_input = []\n",
        "\n",
        "# Condição na opção ilha para que aceite somente as opções (Ilha (Biscoe, Dream, Torgersen)\n",
        "while True:\n",
        "    island_input = input(\"Ilha (Biscoe, Dream, Torgersen): \")\n",
        "    if island_input in [\"Biscoe\", \"Dream\", \"Torgersen\"]:\n",
        "        user_input.append(island_map[island_input])\n",
        "        break\n",
        "    else:\n",
        "        print(\"Por favor, insira uma ilha válida.\")\n",
        "\n",
        "# Condição na opção sexo para que aceite somente as opções (FEMALE e MALE)\n",
        "while True:\n",
        "    sex_input = input(\"Sexo (FEMALE, MALE): \")\n",
        "    if sex_input in [\"FEMALE\", \"MALE\"]:\n",
        "        user_input.append(sex_map[sex_input])\n",
        "        break\n",
        "    else:\n",
        "        print(\"Por favor, insira um sexo válido.\")\n",
        "\n",
        "user_input.append(float(input(\"Comprimento do cúlmen (mm): \")))\n",
        "user_input.append(float(input(\"Profundidade do cúlmen (mm): \")))\n",
        "user_input.append(float(input(\"Comprimento da nadadeira (mm): \")))\n",
        "user_input.append(float(input(\"Massa corporal (g): \")))\n",
        "\n",
        "# Previsão da espécie de pinguim com base nos dados inseridos usando a Árvore de Decisão\n",
        "dt_prediction = dt_model.predict([user_input])\n",
        "print(\"Espécie prevista usando Árvore de Decisão:\", species_map_inverse[dt_prediction[0]])\n",
        "\n",
        "# Previsão da espécie de pinguim com base nos dados inseridos usando k-Nearest Neighbors\n",
        "knn_prediction = knn_model.predict([user_input])\n",
        "print(\"Espécie prevista usando k-Nearest Neighbors:\", species_map_inverse[knn_prediction[0]])\n"
      ]
    }
  ],
  "metadata": {
    "colab": {
      "provenance": [],
      "toc_visible": true
    },
    "kernelspec": {
      "display_name": "Python 3",
      "name": "python3"
    },
    "language_info": {
      "codemirror_mode": {
        "name": "ipython",
        "version": 3
      },
      "file_extension": ".py",
      "mimetype": "text/x-python",
      "name": "python",
      "nbconvert_exporter": "python",
      "pygments_lexer": "ipython3",
      "version": "3.10.0"
    }
  },
  "nbformat": 4,
  "nbformat_minor": 0
}
